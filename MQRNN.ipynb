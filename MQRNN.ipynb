{
 "cells": [
  {
   "cell_type": "code",
   "execution_count": 1,
   "metadata": {},
   "outputs": [],
   "source": [
    "import Encoder\n",
    "import Decoder\n",
    "from MQRNN import MQRNN \n",
    "from data import MQRNN_dataset,read_df\n",
    "import pandas as pd\n",
    "import numpy as np\n",
    "from data import MQRNN_dataset\n",
    "import matplotlib.pyplot as plt\n",
    "from torch.utils.data import DataLoader\n",
    "import torch\n",
    "from train import train"
   ]
  },
  {
   "cell_type": "code",
   "execution_count": 2,
   "metadata": {},
   "outputs": [
    {
     "name": "stderr",
     "output_type": "stream",
     "text": [
      "c:\\Users\\Administrator\\Desktop\\科研\\github\\My_MQRNN\\data.py:10: FutureWarning: The pandas.datetime class is deprecated and will be removed from pandas in a future version. Import from datetime module instead.\n",
      "  dateparse = lambda dates:pd.datetime.strptime(dates,'%Y%m%d')\n"
     ]
    }
   ],
   "source": [
    "config = {\n",
    "    'horizon_size':30,\n",
    "    'hidden_size':50,\n",
    "    'quantiles': [0.2,0.4,0.6,0.8,1], \n",
    "    'columns': [1],\n",
    "    'dropout': 0.3,\n",
    "    'layer_size':2,\n",
    "    'b_direction':False,\n",
    "    'lr': 1e-3,\n",
    "    'batch_size': 1,\n",
    "    'num_epochs':100,\n",
    "    'context_size': 10,\n",
    "}\n",
    "device = torch.device('cuda:0' if torch.cuda.is_available() else 'cpu')\n",
    "train_target_df, test_target_df, train_covariate_df, test_covariate_df, mean_std = read_df(config)\n",
    "config['covariate_size'] = train_covariate_df.shape[1]\n",
    "config['device'] = device\n",
    "train_target_df = train_target_df.to_numpy().reshape((-1,1))\n",
    "test_target_df = test_target_df.to_numpy().reshape((-1,1))\n",
    "train_covariate_df = train_covariate_df.to_numpy()\n",
    "test_covariate_df = test_covariate_df.to_numpy()\n"
   ]
  },
  {
   "cell_type": "code",
   "execution_count": 3,
   "metadata": {},
   "outputs": [
    {
     "name": "stdout",
     "output_type": "stream",
     "text": [
      "self.covariate_df.shape[0] : 93\n",
      "full_covariate shape: (63, 1, 30, 2)\n"
     ]
    }
   ],
   "source": [
    "horizon_size = config['horizon_size']\n",
    "hidden_size = config['hidden_size']\n",
    "quantiles = config['quantiles']\n",
    "quantiles_size = len(quantiles)\n",
    "columns = config['columns']\n",
    "dropout = config['dropout']\n",
    "layer_size = config['layer_size']\n",
    "b_direction = config['b_direction']\n",
    "lr = config['lr']\n",
    "batch_size= config['batch_size']\n",
    "num_epochs = config['num_epochs']\n",
    "context_size = config['context_size']\n",
    "covariate_size = config['covariate_size']\n",
    "device = torch.device('cuda:0' if torch.cuda.is_available() else 'cpu')\n",
    "\n",
    "train_dataset = MQRNN_dataset(train_target_df,train_covariate_df,horizon_size)\n",
    "data_iter = DataLoader(dataset=train_dataset, batch_size=batch_size, shuffle=True,num_workers=0)\n",
    "net = MQRNN(horizon_size,hidden_size,quantiles,dropout,layer_size,b_direction,lr,batch_size,num_epochs,context_size,covariate_size,device)"
   ]
  },
  {
   "cell_type": "code",
   "execution_count": 4,
   "metadata": {},
   "outputs": [
    {
     "name": "stdout",
     "output_type": "stream",
     "text": [
      "epoch_num 5, current loss is: 2661.2626984126982\n",
      "epoch_num 10, current loss is: 2611.965343915344\n",
      "epoch_num 15, current loss is: 2523.8373015873017\n",
      "epoch_num 20, current loss is: 2409.7386243386245\n",
      "epoch_num 25, current loss is: 2341.133333333333\n",
      "epoch_num 30, current loss is: 2145.7854497354497\n",
      "epoch_num 35, current loss is: 1958.5365079365079\n",
      "epoch_num 40, current loss is: 1830.9600529100528\n",
      "epoch_num 45, current loss is: 1752.807142857143\n",
      "epoch_num 50, current loss is: 1688.0074074074073\n",
      "epoch_num 55, current loss is: 1638.8294973544973\n",
      "epoch_num 60, current loss is: 1599.2642857142857\n",
      "epoch_num 65, current loss is: 1566.001455026455\n",
      "epoch_num 70, current loss is: 1544.9657407407408\n",
      "epoch_num 75, current loss is: 1535.3597883597884\n",
      "epoch_num 80, current loss is: 1529.5294973544974\n",
      "epoch_num 85, current loss is: 1523.7805555555556\n",
      "epoch_num 90, current loss is: 1518.974074074074\n",
      "epoch_num 95, current loss is: 1515.6859788359789\n",
      "epoch_num 100, current loss is: 1513.40291005291\n"
     ]
    }
   ],
   "source": [
    "train(net,train_dataset,lr,batch_size,num_epochs,quantiles,device)"
   ]
  },
  {
   "cell_type": "code",
   "execution_count": 5,
   "metadata": {},
   "outputs": [
    {
     "name": "stdout",
     "output_type": "stream",
     "text": [
      "input_target_tensor.shape: torch.Size([93, 1])\n",
      "full_covariate_tensor.shape: torch.Size([93, 2])\n",
      "next_covariate_tensor.shape: torch.Size([1, 60])\n",
      "input_target_covariate_tensor shape: torch.Size([93, 1, 3])\n",
      "hidden shape: torch.Size([1, 1, 50])\n",
      "next_covariate_tensor: torch.Size([1, 1, 60])\n",
      "prediction finished\n"
     ]
    },
    {
     "data": {
      "text/plain": [
       "{0.2: array([0.        , 0.22075551, 0.07678397, 0.        , 0.08194168,\n",
       "        0.26718319, 0.12304455, 0.        , 0.        , 0.09553928,\n",
       "        0.06742232, 0.08360061, 0.09448573, 0.09130017, 0.05873579,\n",
       "        0.11535469, 0.        , 0.30452331, 0.24260628, 0.07903432,\n",
       "        0.08195255, 0.05510589, 0.        , 0.29705528, 0.1014437 ,\n",
       "        0.09850273, 0.0777283 , 0.08919259, 0.13364826, 0.1261078 ]),\n",
       " 0.4: array([0.52708874, 0.44561776, 0.39344967, 0.56434015, 0.34434387,\n",
       "        0.35850335, 0.36499153, 0.46076121, 0.48713081, 0.39388648,\n",
       "        0.5837312 , 0.3443825 , 0.3544812 , 0.3642522 , 0.45378887,\n",
       "        0.3845028 , 0.55609224, 0.40859894, 0.3463907 , 0.35412134,\n",
       "        0.36403449, 0.37325441, 0.53748388, 0.39857982, 0.40386918,\n",
       "        0.34472957, 0.35409092, 0.36420311, 0.37508368, 0.36106544]),\n",
       " 0.6: array([0., 0., 0., 0., 0., 0., 0., 0., 0., 0., 0., 0., 0., 0., 0., 0., 0.,\n",
       "        0., 0., 0., 0., 0., 0., 0., 0., 0., 0., 0., 0., 0.]),\n",
       " 0.8: array([1.14430197, 1.16569119, 1.17773248, 1.11637162, 1.19021545,\n",
       "        1.11292488, 1.16788989, 1.23091566, 1.18750934, 1.17020169,\n",
       "        1.04229528, 1.18954934, 1.18226787, 1.18063617, 1.2224015 ,\n",
       "        1.16515602, 1.10905347, 1.08337781, 1.05607317, 1.18847205,\n",
       "        1.18438951, 1.19225843, 1.10883517, 1.08928723, 1.16492011,\n",
       "        1.18356571, 1.18899646, 1.18148243, 1.16072141, 1.15548112]),\n",
       " 1: array([2.49250649, 2.49771296, 2.19543873, 2.43653244, 2.31265324,\n",
       "        2.30284299, 2.2689266 , 2.56876069, 2.57285879, 2.19681137,\n",
       "        2.47433456, 2.31277465, 2.29020389, 2.26660334, 2.59423997,\n",
       "        2.22162899, 2.46338055, 2.18873875, 2.3344524 , 2.28907305,\n",
       "        2.26591922, 2.240587  , 2.47291834, 2.2115596 , 2.17387608,\n",
       "        2.31386528, 2.28897747, 2.26644909, 2.24633524, 2.20891351])}"
      ]
     },
     "execution_count": 5,
     "metadata": {},
     "output_type": "execute_result"
    }
   ],
   "source": [
    "net.predict(train_target_df, train_covariate_df, test_covariate_df)"
   ]
  },
  {
   "cell_type": "markdown",
   "metadata": {},
   "source": []
  }
 ],
 "metadata": {
  "kernelspec": {
   "display_name": "Python 3.7.16 ('pytorch_train')",
   "language": "python",
   "name": "python3"
  },
  "language_info": {
   "codemirror_mode": {
    "name": "ipython",
    "version": 3
   },
   "file_extension": ".py",
   "mimetype": "text/x-python",
   "name": "python",
   "nbconvert_exporter": "python",
   "pygments_lexer": "ipython3",
   "version": "3.7.16"
  },
  "orig_nbformat": 4,
  "vscode": {
   "interpreter": {
    "hash": "8fbad53655fe38d5ab9f5473cfbc3673770f1f34c5099a69c56f611760569131"
   }
  }
 },
 "nbformat": 4,
 "nbformat_minor": 2
}
